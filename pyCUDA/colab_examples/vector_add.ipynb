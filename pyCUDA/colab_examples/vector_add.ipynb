{
  "nbformat": 4,
  "nbformat_minor": 0,
  "metadata": {
    "colab": {
      "provenance": [],
      "gpuType": "T4"
    },
    "kernelspec": {
      "name": "python3",
      "display_name": "Python 3"
    },
    "language_info": {
      "name": "python"
    },
    "accelerator": "GPU"
  },
  "cells": [
    {
      "cell_type": "code",
      "execution_count": 1,
      "metadata": {
        "colab": {
          "base_uri": "https://localhost:8080/"
        },
        "id": "j5z2PaKBYGiT",
        "outputId": "4a70d7a8-ea09-4a72-f908-693f83d081f5"
      },
      "outputs": [
        {
          "output_type": "stream",
          "name": "stdout",
          "text": [
            "Collecting pycuda\n",
            "  Downloading pycuda-2025.1.tar.gz (1.7 MB)\n",
            "\u001b[?25l     \u001b[90m━━━━━━━━━━━━━━━━━━━━━━━━━━━━━━━━━━━━━━━━\u001b[0m \u001b[32m0.0/1.7 MB\u001b[0m \u001b[31m?\u001b[0m eta \u001b[36m-:--:--\u001b[0m\r\u001b[2K     \u001b[91m━━━━━━\u001b[0m\u001b[90m╺\u001b[0m\u001b[90m━━━━━━━━━━━━━━━━━━━━━━━━━━━━━━━━━\u001b[0m \u001b[32m0.3/1.7 MB\u001b[0m \u001b[31m8.8 MB/s\u001b[0m eta \u001b[36m0:00:01\u001b[0m\r\u001b[2K     \u001b[91m━━━━━━━━━━━━━━━━━━━━━━━━━━━━━━━━━━━━━━━\u001b[0m\u001b[91m╸\u001b[0m \u001b[32m1.7/1.7 MB\u001b[0m \u001b[31m26.5 MB/s\u001b[0m eta \u001b[36m0:00:01\u001b[0m\r\u001b[2K     \u001b[90m━━━━━━━━━━━━━━━━━━━━━━━━━━━━━━━━━━━━━━━━\u001b[0m \u001b[32m1.7/1.7 MB\u001b[0m \u001b[31m18.9 MB/s\u001b[0m eta \u001b[36m0:00:00\u001b[0m\n",
            "\u001b[?25h  Installing build dependencies ... \u001b[?25l\u001b[?25hdone\n",
            "  Getting requirements to build wheel ... \u001b[?25l\u001b[?25hdone\n",
            "  Preparing metadata (pyproject.toml) ... \u001b[?25l\u001b[?25hdone\n",
            "Collecting pytools>=2011.2 (from pycuda)\n",
            "  Downloading pytools-2025.1.1-py3-none-any.whl.metadata (3.0 kB)\n",
            "Requirement already satisfied: platformdirs>=2.2.0 in /usr/local/lib/python3.11/dist-packages (from pycuda) (4.3.6)\n",
            "Requirement already satisfied: mako in /usr/lib/python3/dist-packages (from pycuda) (1.1.3)\n",
            "Requirement already satisfied: typing-extensions>=4.5 in /usr/local/lib/python3.11/dist-packages (from pytools>=2011.2->pycuda) (4.12.2)\n",
            "Downloading pytools-2025.1.1-py3-none-any.whl (92 kB)\n",
            "\u001b[2K   \u001b[90m━━━━━━━━━━━━━━━━━━━━━━━━━━━━━━━━━━━━━━━━\u001b[0m \u001b[32m92.8/92.8 kB\u001b[0m \u001b[31m8.4 MB/s\u001b[0m eta \u001b[36m0:00:00\u001b[0m\n",
            "\u001b[?25hBuilding wheels for collected packages: pycuda\n",
            "  Building wheel for pycuda (pyproject.toml) ... \u001b[?25l\u001b[?25hdone\n",
            "  Created wheel for pycuda: filename=pycuda-2025.1-cp311-cp311-linux_x86_64.whl size=660426 sha256=8d45121a0c461d60400c0c90c5c69cc00518d64ff7414e682cbe1e87571ca8ee\n",
            "  Stored in directory: /root/.cache/pip/wheels/77/7e/6c/d2d1451ea6424cdc3d67b36c16fa7111eafdf2034bc3405666\n",
            "Successfully built pycuda\n",
            "Installing collected packages: pytools, pycuda\n",
            "Successfully installed pycuda-2025.1 pytools-2025.1.1\n"
          ]
        }
      ],
      "source": [
        "!pip install pycuda"
      ]
    },
    {
      "cell_type": "code",
      "source": [
        "import pycuda.autoinit\n",
        "import pycuda.driver as drv\n",
        "import numpy as np\n",
        "from pycuda import gpuarray, compiler\n",
        "\n",
        "# Define the CUDA kernel (vector addition)\n",
        "kernel_code = \"\"\"\n",
        "__global__ void vec_add(float *a, float *b, float *c, int n) {\n",
        "    int idx = threadIdx.x + blockIdx.x * blockDim.x;\n",
        "    if (idx < n) {\n",
        "        c[idx] = a[idx] + b[idx];\n",
        "    }\n",
        "}\n",
        "\"\"\"\n",
        "\n",
        "# Compile the kernel\n",
        "mod = compiler.SourceModule(kernel_code)\n",
        "vec_add = mod.get_function(\"vec_add\")\n",
        "\n",
        "# Input data\n",
        "n = 10\n",
        "a = np.random.randn(n).astype(np.float32)\n",
        "b = np.random.randn(n).astype(np.float32)\n",
        "c = np.zeros_like(a)\n",
        "\n",
        "# Allocate GPU memory and copy data\n",
        "a_gpu = gpuarray.to_gpu(a)\n",
        "b_gpu = gpuarray.to_gpu(b)\n",
        "c_gpu = gpuarray.empty_like(a_gpu)\n",
        "\n",
        "# Launch kernel (1 block, 256 threads per block)\n",
        "block_size = 256\n",
        "grid_size = (n + block_size - 1) // block_size\n",
        "vec_add(a_gpu, b_gpu, c_gpu, np.int32(n), block=(block_size, 1, 1), grid=(grid_size, 1))\n",
        "\n",
        "# Copy result back to CPU and verify\n",
        "c = c_gpu.get()\n",
        "print(\"Input A:\", a)\n",
        "print(\"Input B:\", b)\n",
        "print(\"Output C:\", c)"
      ],
      "metadata": {
        "colab": {
          "base_uri": "https://localhost:8080/"
        },
        "id": "qWntZbHLYNuy",
        "outputId": "9e8c92f9-df12-4867-cb37-56c80a051700"
      },
      "execution_count": 2,
      "outputs": [
        {
          "output_type": "stream",
          "name": "stdout",
          "text": [
            "Input A: [-1.7712677   0.8426537   0.4673768   0.06064554 -2.0816793  -0.28908092\n",
            " -0.3796753  -0.67691046 -1.03661     1.3708297 ]\n",
            "Input B: [-1.792802   -1.3222631  -0.1057713  -0.67127013  0.2729242  -0.7654272\n",
            " -1.8327522  -0.18640576  1.3549472  -0.06982907]\n",
            "Output C: [-3.5640697  -0.47960943  0.3616055  -0.6106246  -1.8087552  -1.0545081\n",
            " -2.2124276  -0.86331624  0.3183372   1.3010006 ]\n"
          ]
        }
      ]
    }
  ]
}