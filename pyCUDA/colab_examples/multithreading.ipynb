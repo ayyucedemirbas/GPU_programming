{
  "nbformat": 4,
  "nbformat_minor": 0,
  "metadata": {
    "colab": {
      "provenance": [],
      "gpuType": "T4"
    },
    "kernelspec": {
      "name": "python3",
      "display_name": "Python 3"
    },
    "language_info": {
      "name": "python"
    },
    "accelerator": "GPU"
  },
  "cells": [
    {
      "cell_type": "code",
      "source": [
        "!pip install pycuda"
      ],
      "metadata": {
        "colab": {
          "base_uri": "https://localhost:8080/"
        },
        "id": "pgnd2pxWS0za",
        "outputId": "7549c30c-07de-4e02-a8ed-dbd744fa3035"
      },
      "execution_count": 1,
      "outputs": [
        {
          "output_type": "stream",
          "name": "stdout",
          "text": [
            "Collecting pycuda\n",
            "  Downloading pycuda-2025.1.1.tar.gz (1.7 MB)\n",
            "\u001b[2K     \u001b[90m━━━━━━━━━━━━━━━━━━━━━━━━━━━━━━━━━━━━━━━━\u001b[0m \u001b[32m1.7/1.7 MB\u001b[0m \u001b[31m29.0 MB/s\u001b[0m eta \u001b[36m0:00:00\u001b[0m\n",
            "\u001b[?25h  Installing build dependencies ... \u001b[?25l\u001b[?25hdone\n",
            "  Getting requirements to build wheel ... \u001b[?25l\u001b[?25hdone\n",
            "  Preparing metadata (pyproject.toml) ... \u001b[?25l\u001b[?25hdone\n",
            "Collecting pytools>=2011.2 (from pycuda)\n",
            "  Downloading pytools-2025.2.2-py3-none-any.whl.metadata (2.9 kB)\n",
            "Requirement already satisfied: platformdirs>=2.2.0 in /usr/local/lib/python3.11/dist-packages (from pycuda) (4.3.8)\n",
            "Requirement already satisfied: mako in /usr/lib/python3/dist-packages (from pycuda) (1.1.3)\n",
            "Collecting siphash24>=1.6 (from pytools>=2011.2->pycuda)\n",
            "  Downloading siphash24-1.7-cp311-cp311-manylinux_2_17_x86_64.manylinux2014_x86_64.whl.metadata (3.3 kB)\n",
            "Requirement already satisfied: typing-extensions>=4.5 in /usr/local/lib/python3.11/dist-packages (from pytools>=2011.2->pycuda) (4.14.1)\n",
            "Downloading pytools-2025.2.2-py3-none-any.whl (98 kB)\n",
            "\u001b[2K   \u001b[90m━━━━━━━━━━━━━━━━━━━━━━━━━━━━━━━━━━━━━━━━\u001b[0m \u001b[32m98.1/98.1 kB\u001b[0m \u001b[31m10.9 MB/s\u001b[0m eta \u001b[36m0:00:00\u001b[0m\n",
            "\u001b[?25hDownloading siphash24-1.7-cp311-cp311-manylinux_2_17_x86_64.manylinux2014_x86_64.whl (105 kB)\n",
            "\u001b[2K   \u001b[90m━━━━━━━━━━━━━━━━━━━━━━━━━━━━━━━━━━━━━━━━\u001b[0m \u001b[32m105.6/105.6 kB\u001b[0m \u001b[31m12.1 MB/s\u001b[0m eta \u001b[36m0:00:00\u001b[0m\n",
            "\u001b[?25hBuilding wheels for collected packages: pycuda\n",
            "  Building wheel for pycuda (pyproject.toml) ... \u001b[?25l\u001b[?25hdone\n",
            "  Created wheel for pycuda: filename=pycuda-2025.1.1-cp311-cp311-linux_x86_64.whl size=660712 sha256=f6ba55a8816098ee16a8187ef179ccde91cbd5c3bcfa1b218250ddc2eb9edaa2\n",
            "  Stored in directory: /root/.cache/pip/wheels/49/0a/64/6530a5fde64f984ebb4992e38744fdfd2a61f510377b3a24d9\n",
            "Successfully built pycuda\n",
            "Installing collected packages: siphash24, pytools, pycuda\n",
            "Successfully installed pycuda-2025.1.1 pytools-2025.2.2 siphash24-1.7\n"
          ]
        }
      ]
    },
    {
      "cell_type": "code",
      "execution_count": 3,
      "metadata": {
        "colab": {
          "base_uri": "https://localhost:8080/"
        },
        "id": "zYhq-7O9Su1R",
        "outputId": "034d1944-bd59-4e05-b2de-77001ce7e798"
      },
      "outputs": [
        {
          "output_type": "stream",
          "name": "stdout",
          "text": [
            "PASS\n"
          ]
        }
      ],
      "source": [
        "import numpy as np\n",
        "import pycuda.autoinit\n",
        "import pycuda.driver as cuda\n",
        "from pycuda.compiler import SourceModule\n",
        "\n",
        "# CUDA kernel: each thread adds one element\n",
        "kernel_code = \"\"\"\n",
        "__global__ void vectorAdd(const float* A, const float* B, float* C, int N) {\n",
        "    int idx = blockIdx.x * blockDim.x + threadIdx.x;\n",
        "    if (idx < N) {\n",
        "        C[idx] = A[idx] + B[idx];\n",
        "    }\n",
        "}\n",
        "\"\"\"\n",
        "\n",
        "# Compile the kernel\n",
        "mod = SourceModule(kernel_code)\n",
        "vector_add = mod.get_function(\"vectorAdd\")\n",
        "\n",
        "# Problem size\n",
        "define = 1 << 20  # 1M elements\n",
        "N = 1 << 20\n",
        "\n",
        "# Host arrays\n",
        "h_A = np.arange(N, dtype=np.float32)\n",
        "h_B = 2 * np.arange(N, dtype=np.float32)\n",
        "h_C = np.empty_like(h_A)\n",
        "\n",
        "# Allocate device memory\n",
        "d_A = cuda.mem_alloc(h_A.nbytes)\n",
        "d_B = cuda.mem_alloc(h_B.nbytes)\n",
        "d_C = cuda.mem_alloc(h_C.nbytes)\n",
        "\n",
        "# Copy inputs to device\n",
        "cuda.memcpy_htod(d_A, h_A)\n",
        "cuda.memcpy_htod(d_B, h_B)\n",
        "\n",
        "# Launch parameters\n",
        "threads_per_block = 256\n",
        "blocks_per_grid = (N + threads_per_block - 1) // threads_per_block\n",
        "\n",
        "# Launch kernel\n",
        "vector_add(\n",
        "    d_A, d_B, d_C, np.int32(N),\n",
        "    block=(threads_per_block, 1, 1),\n",
        "    grid=(blocks_per_grid, 1, 1)\n",
        ")\n",
        "\n",
        "# Copy result back to host\n",
        "cuda.memcpy_dtoh(h_C, d_C)\n",
        "\n",
        "# Verify results\n",
        "for i in range(5):\n",
        "    expected = h_A[i] + h_B[i]\n",
        "    if abs(h_C[i] - expected) > 1e-5:\n",
        "        print(\"FAIL at index\", i)\n",
        "        break\n",
        "else:\n",
        "    print(\"PASS\")\n"
      ]
    }
  ]
}