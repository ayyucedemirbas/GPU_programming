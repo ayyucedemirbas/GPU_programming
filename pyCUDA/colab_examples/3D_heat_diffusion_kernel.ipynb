{
  "nbformat": 4,
  "nbformat_minor": 0,
  "metadata": {
    "colab": {
      "provenance": [],
      "gpuType": "T4"
    },
    "kernelspec": {
      "name": "python3",
      "display_name": "Python 3"
    },
    "language_info": {
      "name": "python"
    },
    "accelerator": "GPU"
  },
  "cells": [
    {
      "cell_type": "code",
      "execution_count": null,
      "metadata": {
        "id": "LjtF77yXrUTr"
      },
      "outputs": [],
      "source": [
        "!pip install pycuda"
      ]
    },
    {
      "cell_type": "code",
      "source": [
        "import numpy as np\n",
        "import pycuda.autoinit\n",
        "import pycuda.driver as cuda\n",
        "from pycuda.compiler import SourceModule\n",
        "\n",
        "# CUDA kernel as a string\n",
        "kernel_code = \"\"\"\n",
        "__global__ void heatDiffusion3D(const float* input, float* output,\n",
        "                                int width, int height, int depth) {\n",
        "    int x = blockIdx.x * blockDim.x + threadIdx.x;\n",
        "    int y = blockIdx.y * blockDim.y + threadIdx.y;\n",
        "    int z = blockIdx.z;\n",
        "\n",
        "    int idx = (z * height + y) * width + x;\n",
        "\n",
        "    if (x >= 1 && x < width-1 && y >= 1 && y < height-1 && z >= 1 && z < depth-1) {\n",
        "        float center = input[idx];\n",
        "        float xp = input[idx + 1];\n",
        "        float xm = input[idx - 1];\n",
        "        float yp = input[idx + width];\n",
        "        float ym = input[idx - width];\n",
        "        float zp = input[idx + width*height];\n",
        "        float zm = input[idx - width*height];\n",
        "        output[idx] = (center + xp + xm + yp + ym + zp + zm) / 7.0f;\n",
        "    }\n",
        "}\n",
        "\"\"\"\n",
        "\n",
        "# Compile kernel\n",
        "mod = SourceModule(kernel_code)\n",
        "heat_diffusion = mod.get_function(\"heatDiffusion3D\")\n",
        "\n",
        "width, height, depth = 128, 128, 64\n",
        "\n",
        "# Create host arrays\n",
        "h_input = np.zeros((depth, height, width), dtype=np.float32)\n",
        "h_output = np.zeros_like(h_input)\n",
        "\n",
        "# Initialize input\n",
        "for z in range(depth):\n",
        "    h_input[z] = (np.arange(height*width) % 100).reshape(height, width) / 100.0\n",
        "\n",
        "# Allocate device memory\n",
        "d_input = cuda.mem_alloc(h_input.nbytes)\n",
        "d_output = cuda.mem_alloc(h_output.nbytes)\n",
        "\n",
        "# Copy to device\n",
        "cuda.memcpy_htod(d_input, h_input)\n",
        "\n",
        "# Define block and grid dimensions\n",
        "block = (16, 16, 1)\n",
        "grid = ( (width + block[0] - 1) // block[0],\n",
        "         (height + block[1] - 1) // block[1],\n",
        "         depth )\n",
        "\n",
        "# Launch kernel\n",
        "heat_diffusion(d_input, d_output,\n",
        "               np.int32(width), np.int32(height), np.int32(depth),\n",
        "               block=block, grid=grid)\n",
        "\n",
        "# Copy back to host\n",
        "cuda.memcpy_dtoh(h_output, d_output)\n",
        "\n",
        "# Simple verification: print center voxel\n",
        "cx, cy, cz = width//2, height//2, depth//2\n",
        "print(f\"Center voxel after diffusion: {h_output[cz, cy, cx]}\")\n"
      ],
      "metadata": {
        "colab": {
          "base_uri": "https://localhost:8080/"
        },
        "id": "lIJUIoWHretn",
        "outputId": "5128e56c-3196-45e2-9265-b4b438d301a2"
      },
      "execution_count": 2,
      "outputs": [
        {
          "output_type": "stream",
          "name": "stdout",
          "text": [
            "Center voxel after diffusion: 0.5600000023841858\n"
          ]
        }
      ]
    }
  ]
}