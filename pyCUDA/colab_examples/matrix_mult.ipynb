{
  "nbformat": 4,
  "nbformat_minor": 0,
  "metadata": {
    "colab": {
      "provenance": [],
      "gpuType": "T4"
    },
    "kernelspec": {
      "name": "python3",
      "display_name": "Python 3"
    },
    "language_info": {
      "name": "python"
    },
    "accelerator": "GPU"
  },
  "cells": [
    {
      "cell_type": "code",
      "execution_count": 1,
      "metadata": {
        "colab": {
          "base_uri": "https://localhost:8080/"
        },
        "id": "AjAVWERjgLg7",
        "outputId": "004af4e1-8b05-4ea0-eb8a-05dc3e0f987f"
      },
      "outputs": [
        {
          "output_type": "stream",
          "name": "stdout",
          "text": [
            "Collecting pycuda\n",
            "  Downloading pycuda-2025.1.tar.gz (1.7 MB)\n",
            "\u001b[?25l     \u001b[90m━━━━━━━━━━━━━━━━━━━━━━━━━━━━━━━━━━━━━━━━\u001b[0m \u001b[32m0.0/1.7 MB\u001b[0m \u001b[31m?\u001b[0m eta \u001b[36m-:--:--\u001b[0m\r\u001b[2K     \u001b[91m━━━━━━━━━━━━━━━━━━━━━━━━━━━━\u001b[0m\u001b[90m╺\u001b[0m\u001b[90m━━━━━━━━━━━\u001b[0m \u001b[32m1.2/1.7 MB\u001b[0m \u001b[31m35.2 MB/s\u001b[0m eta \u001b[36m0:00:01\u001b[0m\r\u001b[2K     \u001b[90m━━━━━━━━━━━━━━━━━━━━━━━━━━━━━━━━━━━━━━━━\u001b[0m \u001b[32m1.7/1.7 MB\u001b[0m \u001b[31m24.9 MB/s\u001b[0m eta \u001b[36m0:00:00\u001b[0m\n",
            "\u001b[?25h  Installing build dependencies ... \u001b[?25l\u001b[?25hdone\n",
            "  Getting requirements to build wheel ... \u001b[?25l\u001b[?25hdone\n",
            "  Preparing metadata (pyproject.toml) ... \u001b[?25l\u001b[?25hdone\n",
            "Collecting pytools>=2011.2 (from pycuda)\n",
            "  Downloading pytools-2025.1.1-py3-none-any.whl.metadata (3.0 kB)\n",
            "Requirement already satisfied: platformdirs>=2.2.0 in /usr/local/lib/python3.11/dist-packages (from pycuda) (4.3.6)\n",
            "Requirement already satisfied: mako in /usr/lib/python3/dist-packages (from pycuda) (1.1.3)\n",
            "Requirement already satisfied: typing-extensions>=4.5 in /usr/local/lib/python3.11/dist-packages (from pytools>=2011.2->pycuda) (4.12.2)\n",
            "Downloading pytools-2025.1.1-py3-none-any.whl (92 kB)\n",
            "\u001b[2K   \u001b[90m━━━━━━━━━━━━━━━━━━━━━━━━━━━━━━━━━━━━━━━━\u001b[0m \u001b[32m92.8/92.8 kB\u001b[0m \u001b[31m8.4 MB/s\u001b[0m eta \u001b[36m0:00:00\u001b[0m\n",
            "\u001b[?25hBuilding wheels for collected packages: pycuda\n",
            "  Building wheel for pycuda (pyproject.toml) ... \u001b[?25l\u001b[?25hdone\n",
            "  Created wheel for pycuda: filename=pycuda-2025.1-cp311-cp311-linux_x86_64.whl size=660426 sha256=516a3ec755841a91c3bd8b7413c388b9ccdea8c632720f57bef45305992681a0\n",
            "  Stored in directory: /root/.cache/pip/wheels/77/7e/6c/d2d1451ea6424cdc3d67b36c16fa7111eafdf2034bc3405666\n",
            "Successfully built pycuda\n",
            "Installing collected packages: pytools, pycuda\n",
            "Successfully installed pycuda-2025.1 pytools-2025.1.1\n"
          ]
        }
      ],
      "source": [
        "!pip install pycuda"
      ]
    },
    {
      "cell_type": "code",
      "source": [
        "import pycuda.autoinit\n",
        "import pycuda.driver as drv\n",
        "import numpy as np\n",
        "from pycuda import gpuarray, compiler\n",
        "\n",
        "# Define CUDA kernel for matrix multiplication\n",
        "kernel_code = \"\"\"\n",
        "__global__ void matrix_mult(float *A, float *B, float *C, int size) {\n",
        "    int row = blockIdx.y * blockDim.y + threadIdx.y;\n",
        "    int col = blockIdx.x * blockDim.x + threadIdx.x;\n",
        "\n",
        "    if (row < size && col < size) {\n",
        "        float sum = 0.0f;\n",
        "        for (int k = 0; k < size; k++) {\n",
        "            sum += A[row * size + k] * B[k * size + col];\n",
        "        }\n",
        "        C[row * size + col] = sum;\n",
        "    }\n",
        "}\n",
        "\"\"\"\n",
        "\n",
        "# Compile the kernel\n",
        "mod = compiler.SourceModule(kernel_code)\n",
        "matrix_mult = mod.get_function(\"matrix_mult\")\n",
        "\n",
        "# Matrix dimensions\n",
        "N = 5  # Small size for readability\n",
        "\n",
        "# Initialize matrices (identity matrices)\n",
        "A = np.eye(N, dtype=np.float32)\n",
        "B = np.eye(N, dtype=np.float32)\n",
        "C = np.zeros((N, N), dtype=np.float32)\n",
        "\n",
        "# Print input matrices\n",
        "print(\"Matrix A:\")\n",
        "print(A)\n",
        "print(\"\\nMatrix B:\")\n",
        "print(B)\n",
        "\n",
        "# Allocate GPU memory\n",
        "A_gpu = gpuarray.to_gpu(A)\n",
        "B_gpu = gpuarray.to_gpu(B)\n",
        "C_gpu = gpuarray.zeros((N, N), dtype=np.float32)\n",
        "\n",
        "# Define block/grid dimensions\n",
        "block_size = (16, 16, 1)  # 16x16 threads per block\n",
        "grid_size = (\n",
        "    (N + block_size[0] - 1) // block_size[0],\n",
        "    (N + block_size[1] - 1) // block_size[1],\n",
        "    1\n",
        ")\n",
        "\n",
        "# Launch kernel\n",
        "matrix_mult(\n",
        "    A_gpu, B_gpu, C_gpu,\n",
        "    np.int32(N),\n",
        "    block=block_size,\n",
        "    grid=grid_size\n",
        ")\n",
        "\n",
        "# Copy result back to CPU\n",
        "C = C_gpu.get()\n",
        "\n",
        "# Print result matrix\n",
        "print(\"\\nMatrix C (Result):\")\n",
        "print(C)\n",
        "\n",
        "# Verify results\n",
        "tolerance = 1e-5\n",
        "correct = np.allclose(C, np.eye(N), atol=tolerance)\n",
        "\n",
        "if correct:\n",
        "    print(\"\\nMatrix multiplication succeeded!\")\n",
        "else:\n",
        "    print(\"\\nMatrix multiplication failed!\")\n",
        "    # Show mismatched indices\n",
        "    mismatch_indices = np.where(~np.isclose(C, np.eye(N), atol=tolerance))\n",
        "    for i, j in zip(*mismatch_indices):\n",
        "        print(f\"Mismatch at ({i}, {j}): Expected 0.0, Got {C[i,j]}\")"
      ],
      "metadata": {
        "colab": {
          "base_uri": "https://localhost:8080/"
        },
        "id": "PnS2mT0HgSpD",
        "outputId": "af30d64e-b27c-483b-935d-fac5d1b688dc"
      },
      "execution_count": 2,
      "outputs": [
        {
          "output_type": "stream",
          "name": "stdout",
          "text": [
            "Matrix A:\n",
            "[[1. 0. 0. 0. 0.]\n",
            " [0. 1. 0. 0. 0.]\n",
            " [0. 0. 1. 0. 0.]\n",
            " [0. 0. 0. 1. 0.]\n",
            " [0. 0. 0. 0. 1.]]\n",
            "\n",
            "Matrix B:\n",
            "[[1. 0. 0. 0. 0.]\n",
            " [0. 1. 0. 0. 0.]\n",
            " [0. 0. 1. 0. 0.]\n",
            " [0. 0. 0. 1. 0.]\n",
            " [0. 0. 0. 0. 1.]]\n",
            "\n",
            "Matrix C (Result):\n",
            "[[1. 0. 0. 0. 0.]\n",
            " [0. 1. 0. 0. 0.]\n",
            " [0. 0. 1. 0. 0.]\n",
            " [0. 0. 0. 1. 0.]\n",
            " [0. 0. 0. 0. 1.]]\n",
            "\n",
            "Matrix multiplication succeeded!\n"
          ]
        }
      ]
    }
  ]
}