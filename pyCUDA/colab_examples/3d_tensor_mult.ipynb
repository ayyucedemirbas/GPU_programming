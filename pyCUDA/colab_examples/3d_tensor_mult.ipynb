{
  "nbformat": 4,
  "nbformat_minor": 0,
  "metadata": {
    "colab": {
      "provenance": [],
      "gpuType": "T4"
    },
    "kernelspec": {
      "name": "python3",
      "display_name": "Python 3"
    },
    "language_info": {
      "name": "python"
    },
    "accelerator": "GPU"
  },
  "cells": [
    {
      "cell_type": "code",
      "execution_count": null,
      "metadata": {
        "id": "l8Et8-vh5rQC"
      },
      "outputs": [],
      "source": [
        "!pip install pycuda"
      ]
    },
    {
      "cell_type": "code",
      "source": [
        "import pycuda.autoinit\n",
        "import pycuda.driver as drv\n",
        "import numpy as np\n",
        "from pycuda.compiler import SourceModule\n",
        "\n",
        "# CUDA kernel code\n",
        "kernel_code = \"\"\"\n",
        "__global__ void tensorMultiply3D(const float* A, const float* B, float* C,\n",
        "                                  int depth, int height, int width) {\n",
        "    int x = blockIdx.x * blockDim.x + threadIdx.x;\n",
        "    int y = blockIdx.y * blockDim.y + threadIdx.y;\n",
        "    int z = blockIdx.z * blockDim.z + threadIdx.z;\n",
        "\n",
        "    if (x < width && y < height && z < depth) {\n",
        "        int idx = z * (height * width) + y * width + x;\n",
        "        C[idx] = A[idx] * B[idx];\n",
        "    }\n",
        "}\n",
        "\"\"\"\n",
        "\n",
        "# Compile the kernel\n",
        "mod = SourceModule(kernel_code)\n",
        "tensor_multiply = mod.get_function(\"tensorMultiply3D\")\n",
        "\n",
        "# Tensor dimensions\n",
        "depth, height, width = 64, 128, 128\n",
        "\n",
        "# Create input tensors\n",
        "A = np.random.rand(depth, height, width).astype(np.float32)\n",
        "B = np.random.rand(depth, height, width).astype(np.float32)\n",
        "C = np.zeros((depth, height, width), dtype=np.float32)\n",
        "\n",
        "# Define block and grid sizes\n",
        "block_size = (8, 8, 8)\n",
        "grid_size = (\n",
        "    (width + block_size[0] - 1) // block_size[0],\n",
        "    (height + block_size[1] - 1) // block_size[1],\n",
        "    (depth + block_size[2] - 1) // block_size[2]\n",
        ")\n",
        "\n",
        "# Launch kernel\n",
        "tensor_multiply(\n",
        "    drv.In(A),\n",
        "    drv.In(B),\n",
        "    drv.Out(C),\n",
        "    np.int32(depth),\n",
        "    np.int32(height),\n",
        "    np.int32(width),\n",
        "    block=block_size,\n",
        "    grid=grid_size\n",
        ")\n",
        "\n",
        "# Verify results\n",
        "expected = A * B\n",
        "print(f\"Results match: {np.allclose(C, expected)}\")\n",
        "print(f\"Max error: {np.max(np.abs(C - expected))}\")\n",
        "print(f\"\\nFirst 5 results:\")\n",
        "print(f\"C[0,0,:5] = {C[0,0,:5]}\")"
      ],
      "metadata": {
        "colab": {
          "base_uri": "https://localhost:8080/"
        },
        "id": "O0TFZ-3e57tm",
        "outputId": "6b301292-8a07-4922-8d91-71f5a33f0edf"
      },
      "execution_count": 2,
      "outputs": [
        {
          "output_type": "stream",
          "name": "stdout",
          "text": [
            "Results match: True\n",
            "Max error: 0.0\n",
            "\n",
            "First 5 results:\n",
            "C[0,0,:5] = [0.34934133 0.34803537 0.09161562 0.36275226 0.7058684 ]\n"
          ]
        }
      ]
    }
  ]
}