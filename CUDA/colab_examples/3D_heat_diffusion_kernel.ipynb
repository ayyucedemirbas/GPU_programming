{
  "nbformat": 4,
  "nbformat_minor": 0,
  "metadata": {
    "colab": {
      "provenance": [],
      "gpuType": "T4"
    },
    "kernelspec": {
      "name": "python3",
      "display_name": "Python 3"
    },
    "language_info": {
      "name": "python"
    },
    "accelerator": "GPU"
  },
  "cells": [
    {
      "cell_type": "code",
      "execution_count": null,
      "metadata": {
        "id": "lD_9yehEo_St"
      },
      "outputs": [],
      "source": [
        "!apt-get install nvidia-cuda-toolkit"
      ]
    },
    {
      "cell_type": "code",
      "source": [
        "%%writefile three_D_heat_diffusion_kernel.cu\n",
        "\n",
        "#include <iostream>\n",
        "#include <cuda_runtime.h>\n",
        "\n",
        "// 3D heat diffusion kernel using a grid of thread block clusters (3D grid)\n",
        "// Each cluster along the z-axis processes one z-slice of the volume.\n",
        "__global__ void heatDiffusion3D(const float* input, float* output,\n",
        "                                int width, int height, int depth) {\n",
        "    // Compute 3D thread coordinates\n",
        "    int x = blockIdx.x * blockDim.x + threadIdx.x;\n",
        "    int y = blockIdx.y * blockDim.y + threadIdx.y;\n",
        "    // cluster index (z slice)\n",
        "    int z = blockIdx.z;\n",
        "\n",
        "    int idx = (z * height + y) * width + x;\n",
        "\n",
        "    if (x >= 1 && x < width-1 && y >= 1 && y < height-1 && z >= 1 && z < depth-1) {\n",
        "        // 6-point stencil average\n",
        "        float center = input[idx];\n",
        "        float xp = input[idx + 1];\n",
        "        float xm = input[idx - 1];\n",
        "        float yp = input[idx + width];\n",
        "        float ym = input[idx - width];\n",
        "        float zp = input[idx + width*height];\n",
        "        float zm = input[idx - width*height];\n",
        "        output[idx] = (center + xp + xm + yp + ym + zp + zm) / 7.0f;\n",
        "    }\n",
        "}\n",
        "\n",
        "int main() {\n",
        "    // Volume dimensions\n",
        "    const int width = 128;\n",
        "    const int height = 128;\n",
        "    const int depth = 64;\n",
        "    const size_t size = width * height * depth * sizeof(float);\n",
        "\n",
        "    // Allocate host memory\n",
        "    float *h_input = (float*)malloc(size);\n",
        "    float *h_output = (float*)malloc(size);\n",
        "\n",
        "    // Initialize input volume\n",
        "    for (int z = 0; z < depth; ++z) {\n",
        "        for (int y = 0; y < height; ++y) {\n",
        "            for (int x = 0; x < width; ++x) {\n",
        "                int idx = (z * height + y) * width + x;\n",
        "                h_input[idx] = static_cast<float>(idx % 100) / 100.0f;\n",
        "            }\n",
        "        }\n",
        "    }\n",
        "\n",
        "    // Allocate device memory\n",
        "    float *d_input, *d_output;\n",
        "    cudaMalloc(&d_input, size);\n",
        "    cudaMalloc(&d_output, size);\n",
        "\n",
        "    // Copy data to device\n",
        "    cudaMemcpy(d_input, h_input, size, cudaMemcpyHostToDevice);\n",
        "\n",
        "    // Define a 3D grid and block dimensions\n",
        "    dim3 blockDim(16, 16, 1);                   // 256 threads per block\n",
        "    dim3 gridDim((width+blockDim.x-1)/blockDim.x,\n",
        "                 (height+blockDim.y-1)/blockDim.y,\n",
        "                 depth);                        // depth clusters along z-axis\n",
        "\n",
        "    // Launch kernel\n",
        "    heatDiffusion3D<<<gridDim, blockDim>>>(d_input, d_output, width, height, depth);\n",
        "    cudaDeviceSynchronize();\n",
        "\n",
        "    // Copy results back to host\n",
        "    cudaMemcpy(h_output, d_output, size, cudaMemcpyDeviceToHost);\n",
        "\n",
        "    // Simple verification: print center voxel\n",
        "    int cx = width/2, cy = height/2, cz = depth/2;\n",
        "    int cidx = (cz * height + cy) * width + cx;\n",
        "    std::cout << \"Center voxel after diffusion: \" << h_output[cidx] << std::endl;\n",
        "\n",
        "    // Cleanup\n",
        "    cudaFree(d_input);\n",
        "    cudaFree(d_output);\n",
        "    free(h_input);\n",
        "    free(h_output);\n",
        "\n",
        "    return 0;\n",
        "}\n"
      ],
      "metadata": {
        "colab": {
          "base_uri": "https://localhost:8080/"
        },
        "id": "0SWgaFU5p6vU",
        "outputId": "7f899677-3330-4740-9a13-a6debfcbf7cf"
      },
      "execution_count": 4,
      "outputs": [
        {
          "output_type": "stream",
          "name": "stdout",
          "text": [
            "Writing three_D_heat_diffusion_kernel.cu\n"
          ]
        }
      ]
    },
    {
      "cell_type": "code",
      "source": [
        "!nvcc -o three_D_heat_diffusion_kernel three_D_heat_diffusion_kernel.cu\n",
        "!./three_D_heat_diffusion_kernel"
      ],
      "metadata": {
        "colab": {
          "base_uri": "https://localhost:8080/"
        },
        "id": "wTz1QO6nqHa4",
        "outputId": "7329f626-54db-4a94-d469-9472d83320cc"
      },
      "execution_count": 6,
      "outputs": [
        {
          "output_type": "stream",
          "name": "stdout",
          "text": [
            "Center voxel after diffusion: 0\n"
          ]
        }
      ]
    }
  ]
}