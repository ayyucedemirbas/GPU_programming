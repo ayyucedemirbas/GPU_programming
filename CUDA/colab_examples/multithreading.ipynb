{
  "nbformat": 4,
  "nbformat_minor": 0,
  "metadata": {
    "colab": {
      "provenance": [],
      "gpuType": "T4"
    },
    "kernelspec": {
      "name": "python3",
      "display_name": "Python 3"
    },
    "language_info": {
      "name": "python"
    },
    "accelerator": "GPU"
  },
  "cells": [
    {
      "cell_type": "code",
      "source": [
        "!apt-get install nvidia-cuda-toolkit"
      ],
      "metadata": {
        "id": "1Yk0Qv3kQMDf"
      },
      "execution_count": null,
      "outputs": []
    },
    {
      "cell_type": "code",
      "execution_count": 15,
      "metadata": {
        "colab": {
          "base_uri": "https://localhost:8080/"
        },
        "id": "dKBPx5G_QDN1",
        "outputId": "7c6487d9-7c57-4a6c-c248-92c21322dec3"
      },
      "outputs": [
        {
          "output_type": "stream",
          "name": "stdout",
          "text": [
            "Writing multithreading.cu\n"
          ]
        }
      ],
      "source": [
        "%%writefile multithreading.cu\n",
        "#include <cuda_runtime.h>\n",
        "#include <iostream>\n",
        "\n",
        "#define CHECK_CUDA(call)                                                   \\\n",
        "  {                                                                        \\\n",
        "    cudaError_t err = call;                                                \\\n",
        "    if (err != cudaSuccess) {                                              \\\n",
        "      std::cerr << \"CUDA Error: \" << cudaGetErrorString(err)               \\\n",
        "                << \" at \" << __FILE__ << \":\" << __LINE__ << std::endl;     \\\n",
        "      std::exit(EXIT_FAILURE);                                             \\\n",
        "    }                                                                      \\\n",
        "  }\n",
        "\n",
        "// CUDA kernel: each thread adds one element\n",
        "__global__ void vectorAdd(const float* A, const float* B, float* C, int N) {\n",
        "    int idx = blockIdx.x * blockDim.x + threadIdx.x;\n",
        "    if (idx < N) {\n",
        "        C[idx] = A[idx] + B[idx];\n",
        "    }\n",
        "}\n",
        "\n",
        "int main() {\n",
        "    const int N = 1 << 20;           // 1M elements\n",
        "    const size_t bytes = N * sizeof(float);\n",
        "\n",
        "    // 1) Allocate host memory\n",
        "    float *h_A = (float*)malloc(bytes);\n",
        "    float *h_B = (float*)malloc(bytes);\n",
        "    float *h_C = (float*)malloc(bytes);\n",
        "\n",
        "    // 2) Initialize inputs\n",
        "    for (int i = 0; i < N; ++i) {\n",
        "        h_A[i] = static_cast<float>(i);\n",
        "        h_B[i] = static_cast<float>(2*i);\n",
        "    }\n",
        "\n",
        "    // 3) Allocate device memory\n",
        "    float *d_A, *d_B, *d_C;\n",
        "    CHECK_CUDA(cudaMalloc(&d_A, bytes));\n",
        "    CHECK_CUDA(cudaMalloc(&d_B, bytes));\n",
        "    CHECK_CUDA(cudaMalloc(&d_C, bytes));\n",
        "\n",
        "    // 4) Copy data to device\n",
        "    CHECK_CUDA(cudaMemcpy(d_A, h_A, bytes, cudaMemcpyHostToDevice));\n",
        "    CHECK_CUDA(cudaMemcpy(d_B, h_B, bytes, cudaMemcpyHostToDevice));\n",
        "\n",
        "    // 5) Launch kernel with enough threads to cover N elements\n",
        "    int threadsPerBlock = 256;\n",
        "    int blocksPerGrid   = (N + threadsPerBlock - 1) / threadsPerBlock;\n",
        "    vectorAdd<<<blocksPerGrid, threadsPerBlock>>>(d_A, d_B, d_C, N);\n",
        "    CHECK_CUDA(cudaGetLastError());\n",
        "    CHECK_CUDA(cudaDeviceSynchronize());\n",
        "\n",
        "    // 6) Copy result back to host\n",
        "    CHECK_CUDA(cudaMemcpy(h_C, d_C, bytes, cudaMemcpyDeviceToHost));\n",
        "\n",
        "    // 7) Verify a few results\n",
        "    bool ok = true;\n",
        "    for (int i = 0; i < 5; ++i) {\n",
        "        float expected = h_A[i] + h_B[i];\n",
        "        if (fabs(h_C[i] - expected) > 1e-5) {\n",
        "            ok = false;\n",
        "            break;\n",
        "        }\n",
        "    }\n",
        "    std::cout << (ok ? \"PASS\\n\" : \"FAIL\\n\");\n",
        "\n",
        "    // 8) Clean up\n",
        "    cudaFree(d_A); cudaFree(d_B); cudaFree(d_C);\n",
        "    free(h_A); free(h_B); free(h_C);\n",
        "\n",
        "    return 0;\n",
        "}\n"
      ]
    },
    {
      "cell_type": "code",
      "source": [
        "import torch\n",
        "prop = torch.cuda.get_device_properties(0)\n",
        "print(f\"Name: {prop.name}, Compute: {prop.major}.{prop.minor}\")"
      ],
      "metadata": {
        "colab": {
          "base_uri": "https://localhost:8080/"
        },
        "id": "LHcidd5JRXTo",
        "outputId": "e9f33bb0-9202-4376-b49d-e02cdbc0f8f9"
      },
      "execution_count": 12,
      "outputs": [
        {
          "output_type": "stream",
          "name": "stdout",
          "text": [
            "Name: Tesla T4, Compute: 7.5\n"
          ]
        }
      ]
    },
    {
      "cell_type": "code",
      "source": [
        "prop"
      ],
      "metadata": {
        "colab": {
          "base_uri": "https://localhost:8080/"
        },
        "id": "-944_XgJRlRG",
        "outputId": "bfd7bad9-0135-43a8-8f28-438399948735"
      },
      "execution_count": 13,
      "outputs": [
        {
          "output_type": "execute_result",
          "data": {
            "text/plain": [
              "_CudaDeviceProperties(name='Tesla T4', major=7, minor=5, total_memory=15095MB, multi_processor_count=40, uuid=d3950b2c-c928-d970-a2e0-3e25122fef76, L2_cache_size=4MB)"
            ]
          },
          "metadata": {},
          "execution_count": 13
        }
      ]
    },
    {
      "cell_type": "code",
      "source": [
        "!nvcc -std=c++14 -O2 multithreading.cu \\\n",
        "    -gencode arch=compute_75,code=sm_75 \\\n",
        "    -gencode arch=compute_75,code=compute_75 \\\n",
        "    -o multithreading"
      ],
      "metadata": {
        "id": "GH2t_q-bQ7M4"
      },
      "execution_count": 16,
      "outputs": []
    },
    {
      "cell_type": "code",
      "source": [
        "!./multithreading"
      ],
      "metadata": {
        "colab": {
          "base_uri": "https://localhost:8080/"
        },
        "id": "ATXEzKn9Qndm",
        "outputId": "5fa5870d-8a52-4c3b-9781-4fd756c3e0cd"
      },
      "execution_count": 17,
      "outputs": [
        {
          "output_type": "stream",
          "name": "stdout",
          "text": [
            "PASS\n"
          ]
        }
      ]
    }
  ]
}