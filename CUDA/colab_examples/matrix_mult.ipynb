{
  "nbformat": 4,
  "nbformat_minor": 0,
  "metadata": {
    "colab": {
      "provenance": [],
      "gpuType": "T4"
    },
    "kernelspec": {
      "name": "python3",
      "display_name": "Python 3"
    },
    "language_info": {
      "name": "python"
    },
    "accelerator": "GPU"
  },
  "cells": [
    {
      "cell_type": "code",
      "source": [
        "!apt-get install nvidia-cuda-toolkit"
      ],
      "metadata": {
        "id": "hOv_p197Ys14"
      },
      "execution_count": null,
      "outputs": []
    },
    {
      "cell_type": "code",
      "execution_count": 6,
      "metadata": {
        "colab": {
          "base_uri": "https://localhost:8080/"
        },
        "id": "-qcIHw_0Ynkd",
        "outputId": "ce384f4c-ae37-4114-a82a-97fedc01dce6"
      },
      "outputs": [
        {
          "output_type": "stream",
          "name": "stdout",
          "text": [
            "Overwriting matrix_mult.cu\n"
          ]
        }
      ],
      "source": [
        "%%writefile matrix_mult.cu\n",
        "#include <stdio.h>\n",
        "#include <math.h>\n",
        "#include <cuda_runtime.h>\n",
        "\n",
        "#define N 5\n",
        "\n",
        "#define CHECK_CUDA_ERROR(call) {                                         \\\n",
        "    cudaError_t err = call;                                              \\\n",
        "    if (err != cudaSuccess) {                                            \\\n",
        "        printf(\"CUDA Error at %s:%d - %s\\n\", __FILE__, __LINE__, cudaGetErrorString(err)); \\\n",
        "        exit(1);                                                         \\\n",
        "    }                                                                    \\\n",
        "}\n",
        "\n",
        "// CUDA kernel for matrix multiplication\n",
        "__global__ void matrix_mult(float *A, float *B, float *C, int size) {\n",
        "    int row = blockIdx.y * blockDim.y + threadIdx.y;\n",
        "    int col = blockIdx.x * blockDim.x + threadIdx.x;\n",
        "\n",
        "    if (row < size && col < size) {\n",
        "        float sum = 0.0f;\n",
        "        for (int k = 0; k < size; k++) {\n",
        "            sum += A[row * size + k] * B[k * size + col];\n",
        "        }\n",
        "        C[row * size + col] = sum;\n",
        "    }\n",
        "}\n",
        "\n",
        "int main() {\n",
        "    float *A, *B, *C;      // Host matrices\n",
        "    float *d_A, *d_B, *d_C; // Device matrices\n",
        "\n",
        "    // Allocate host memory\n",
        "    A = (float*)malloc(N * N * sizeof(float));\n",
        "    B = (float*)malloc(N * N * sizeof(float));\n",
        "    C = (float*)malloc(N * N * sizeof(float));\n",
        "\n",
        "    // Initialize input matrices (A = identity matrix, B = identity matrix)\n",
        "    for (int i = 0; i < N; i++) {\n",
        "        for (int j = 0; j < N; j++) {\n",
        "            A[i * N + j] = (i == j) ? 1.0f : 0.0f;\n",
        "            B[i * N + j] = (i == j) ? 1.0f : 0.0f;\n",
        "        }\n",
        "    }\n",
        "\n",
        "    // Print input matrices\n",
        "    printf(\"Matrix A:\\n\");\n",
        "    for (int i = 0; i < N; i++) {\n",
        "        for (int j = 0; j < N; j++) {\n",
        "            printf(\"%.1f \", A[i * N + j]);\n",
        "        }\n",
        "        printf(\"\\n\");\n",
        "    }\n",
        "\n",
        "    printf(\"\\nMatrix B:\\n\");\n",
        "    for (int i = 0; i < N; i++) {\n",
        "        for (int j = 0; j < N; j++) {\n",
        "            printf(\"%.1f \", B[i * N + j]);\n",
        "        }\n",
        "        printf(\"\\n\");\n",
        "    }\n",
        "\n",
        "    // Allocate GPU memory\n",
        "    CHECK_CUDA_ERROR(cudaMalloc(&d_A, N * N * sizeof(float)));\n",
        "    CHECK_CUDA_ERROR(cudaMalloc(&d_B, N * N * sizeof(float)));\n",
        "    CHECK_CUDA_ERROR(cudaMalloc(&d_C, N * N * sizeof(float)));\n",
        "\n",
        "    // Copy data to GPU\n",
        "    CHECK_CUDA_ERROR(cudaMemcpy(d_A, A, N * N * sizeof(float), cudaMemcpyHostToDevice));\n",
        "    CHECK_CUDA_ERROR(cudaMemcpy(d_B, B, N * N * sizeof(float), cudaMemcpyHostToDevice));\n",
        "\n",
        "    // Define block and grid dimensions\n",
        "    dim3 block_size(16, 16);    // Threads per block\n",
        "    dim3 grid_size((N + block_size.x - 1) / block_size.x,\n",
        "                  (N + block_size.y - 1) / block_size.y);\n",
        "\n",
        "    // Launch kernel\n",
        "    matrix_mult<<<grid_size, block_size>>>(d_A, d_B, d_C, N);\n",
        "    CHECK_CUDA_ERROR(cudaGetLastError());\n",
        "    CHECK_CUDA_ERROR(cudaDeviceSynchronize());\n",
        "\n",
        "    // Copy result back to CPU\n",
        "    CHECK_CUDA_ERROR(cudaMemcpy(C, d_C, N * N * sizeof(float), cudaMemcpyDeviceToHost));\n",
        "\n",
        "    // Print result matrix\n",
        "    printf(\"\\nMatrix C (Result):\\n\");\n",
        "    for (int i = 0; i < N; i++) {\n",
        "        for (int j = 0; j < N; j++) {\n",
        "            printf(\"%.1f \", C[i * N + j]);\n",
        "        }\n",
        "        printf(\"\\n\");\n",
        "    }\n",
        "\n",
        "    // Verify results\n",
        "    bool correct = true;\n",
        "    for (int i = 0; i < N; i++) {\n",
        "        for (int j = 0; j < N; j++) {\n",
        "            float expected = (i == j) ? 1.0f : 0.0f;\n",
        "            if (fabs(C[i * N + j] - expected) > 1e-5) {\n",
        "                correct = false;\n",
        "                break;\n",
        "            }\n",
        "        }\n",
        "    }\n",
        "\n",
        "    if (correct) {\n",
        "        printf(\"\\nMatrix multiplication succeeded!\\n\");\n",
        "    } else {\n",
        "        printf(\"\\nMatrix multiplication failed!\\n\");\n",
        "    }\n",
        "\n",
        "    // Cleanup\n",
        "    free(A);\n",
        "    free(B);\n",
        "    free(C);\n",
        "    CHECK_CUDA_ERROR(cudaFree(d_A));\n",
        "    CHECK_CUDA_ERROR(cudaFree(d_B));\n",
        "    CHECK_CUDA_ERROR(cudaFree(d_C));\n",
        "\n",
        "    return 0;\n",
        "}"
      ]
    },
    {
      "cell_type": "code",
      "source": [
        "!nvcc -arch=sm_75 -o matrix_mult matrix_mult.cu\n",
        "!./matrix_mult"
      ],
      "metadata": {
        "colab": {
          "base_uri": "https://localhost:8080/"
        },
        "id": "zHUHXGJqY0o-",
        "outputId": "c7112910-512d-436f-ec59-3047ffcbd07f"
      },
      "execution_count": 7,
      "outputs": [
        {
          "output_type": "stream",
          "name": "stdout",
          "text": [
            "Matrix A:\n",
            "1.0 0.0 0.0 0.0 0.0 \n",
            "0.0 1.0 0.0 0.0 0.0 \n",
            "0.0 0.0 1.0 0.0 0.0 \n",
            "0.0 0.0 0.0 1.0 0.0 \n",
            "0.0 0.0 0.0 0.0 1.0 \n",
            "\n",
            "Matrix B:\n",
            "1.0 0.0 0.0 0.0 0.0 \n",
            "0.0 1.0 0.0 0.0 0.0 \n",
            "0.0 0.0 1.0 0.0 0.0 \n",
            "0.0 0.0 0.0 1.0 0.0 \n",
            "0.0 0.0 0.0 0.0 1.0 \n",
            "\n",
            "Matrix C (Result):\n",
            "1.0 0.0 0.0 0.0 0.0 \n",
            "0.0 1.0 0.0 0.0 0.0 \n",
            "0.0 0.0 1.0 0.0 0.0 \n",
            "0.0 0.0 0.0 1.0 0.0 \n",
            "0.0 0.0 0.0 0.0 1.0 \n",
            "\n",
            "Matrix multiplication succeeded!\n"
          ]
        }
      ]
    }
  ]
}